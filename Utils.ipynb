{
 "cells": [
  {
   "cell_type": "code",
   "execution_count": null,
   "metadata": {
    "collapsed": true
   },
   "outputs": [],
   "source": [
    "# SHOW COORDS IN IMAGE\n",
    "image = kinect.peek_data()\n",
    "image2 = np.array(image)\n",
    "for p in coordsList:\n",
    "    cv2.circle(image2,(int(p[0]), int(p[1])),5,(200,0,0),3)\n",
    "cv2.imshow(\"plank\", image2)\n",
    "cv2.waitKey()"
   ]
  },
  {
   "cell_type": "code",
   "execution_count": null,
   "metadata": {
    "collapsed": true
   },
   "outputs": [],
   "source": [
    "# SHOW KINECT DATA\n",
    "def show_kinect_data(depth_data, rgb_data=None):\n",
    "    if rgb_data is not None:\n",
    "        fig, (ax1, ax2) = plt.subplots(2, 1)\n",
    "        im1 = ax1.imshow(depth_data, aspect='equal')\n",
    "        im2 = ax2.imshow(rgb_data, aspect='equal')\n",
    "\n",
    "        cbar_ax = fig.add_axes([0.85, 0.15, 0.05, 0.7])\n",
    "        fig.colorbar(im1, cax=cbar_ax)\n",
    "\n",
    "        plt.show()\n",
    "    else:\n",
    "        plt.imshow(depth_data, aspect='equal')\n",
    "        plt.colorbar()\n",
    "        plt.show()"
   ]
  },
  {
   "cell_type": "code",
   "execution_count": null,
   "metadata": {
    "collapsed": true
   },
   "outputs": [],
   "source": [
    "# SHOW KINECT DATA WITH LIST OF POINTS\n",
    "def show_kinect_data(depth_data, points, rgb_data=None ):\n",
    "    if rgb_data is not None:\n",
    "        for p in points:\n",
    "            cv2.circle(depth_data,(int(p[0]), int(p[1])),5,(200,0,0),3)\n",
    "            cv2.circle(rgb_data,(int(p[0]), int(p[1])),5,(200,0,0),3)\n",
    "\n",
    "        fig, (ax1, ax2) = plt.subplots(2, 1)\n",
    "        im1 = ax1.imshow(depth_data, aspect='equal')\n",
    "        im2 = ax2.imshow(rgb_data, aspect='equal')\n",
    "        \n",
    "\n",
    "\n",
    "        cbar_ax = fig.add_axes([0.85, 0.15, 0.05, 0.7])\n",
    "        fig.colorbar(im1, cax=cbar_ax)\n",
    "\n",
    "        plt.show()\n",
    "    else:\n",
    "        plt.imshow(depth_data, aspect='equal')\n",
    "        plt.colorbar()\n",
    "        plt.show()"
   ]
  }
 ],
 "metadata": {
  "kernelspec": {
   "display_name": "Python 3",
   "language": "python",
   "name": "python3"
  },
  "language_info": {
   "codemirror_mode": {
    "name": "ipython",
    "version": 3
   },
   "file_extension": ".py",
   "mimetype": "text/x-python",
   "name": "python",
   "nbconvert_exporter": "python",
   "pygments_lexer": "ipython3",
   "version": "3.5.2"
  }
 },
 "nbformat": 4,
 "nbformat_minor": 0
}
