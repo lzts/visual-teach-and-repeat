{
 "cells": [
  {
   "cell_type": "code",
   "execution_count": 5,
   "metadata": {
    "collapsed": false
   },
   "outputs": [
    {
     "name": "stdout",
     "output_type": "stream",
     "text": [
      "Point1:  (276.2327575683594, 236.78233337402344)\n",
      "Point2:  (79.13481140136719, 61.503658294677734)\n",
      "---------------------------\n",
      "Point1:  (229.62452697753906, 192.27593994140625)\n",
      "Point2:  (117.93952941894531, 20.782506942749023)\n",
      "---------------------------\n",
      "Point1:  (321.1212158203125, 212.66600036621094)\n",
      "Point2:  (100.06669616699219, 100.8641357421875)\n",
      "---------------------------\n",
      "Point1:  (295.0352478027344, 260.9696350097656)\n",
      "Point2:  (57.89035415649414, 78.07573699951172)\n",
      "---------------------------\n",
      "Point1:  (255.45867919921875, 300.2322692871094)\n",
      "Point2:  (24.07987403869629, 43.314327239990234)\n",
      "---------------------------\n"
     ]
    },
    {
     "data": {
      "text/plain": [
       "(<matplotlib.image.AxesImage at 0x7f0b3eb53cf8>, None)"
      ]
     },
     "execution_count": 5,
     "metadata": {},
     "output_type": "execute_result"
    }
   ],
   "source": [
    "import cv2\n",
    "from matplotlib import pyplot as plt\n",
    "\n",
    "img1 = cv2.imread('Akita-inu.png', 0)  # queryImage\n",
    "img2 = cv2.imread('akita-mini.PNG', 0)  # trainImage\n",
    "\n",
    "\n",
    "# Initiate SIFT detector\n",
    "sift = cv2.xfeatures2d.SIFT_create()\n",
    "\n",
    "# find the keypoints and descriptors with SIFT\n",
    "kp1, des1 = sift.detectAndCompute(img1, None)\n",
    "kp2, des2 = sift.detectAndCompute(img2, None)\n",
    "\n",
    "# BFMatcher with default params\n",
    "bf = cv2.BFMatcher()\n",
    "matches = bf.knnMatch(des1, des2, k=2)\n",
    "\n",
    "# Apply ratio test\n",
    "good = []\n",
    "for m, n in matches:\n",
    "    if m.distance < 0.1 * n.distance:\n",
    "        good.append([m])\n",
    "\n",
    "for dmatch in good:\n",
    "    point1 = kp1[dmatch[0].queryIdx].pt\n",
    "    point2 = kp2[dmatch[0].trainIdx].pt\n",
    "    print('Point1: ',point1)\n",
    "    print('Point2: ',point2)\n",
    "    print('---------------------------')\n",
    "\n",
    "img3 = cv2.drawMatchesKnn(img1, kp1, img2, kp2, good, 4, flags=2)\n",
    "plt.imshow(img3), plt.show()\n",
    "\n"
   ]
  }
 ],
 "metadata": {
  "kernelspec": {
   "display_name": "Python 3",
   "language": "python",
   "name": "python3"
  },
  "language_info": {
   "codemirror_mode": {
    "name": "ipython",
    "version": 3
   },
   "file_extension": ".py",
   "mimetype": "text/x-python",
   "name": "python",
   "nbconvert_exporter": "python",
   "pygments_lexer": "ipython3",
   "version": "3.5.2"
  }
 },
 "nbformat": 4,
 "nbformat_minor": 0
}
