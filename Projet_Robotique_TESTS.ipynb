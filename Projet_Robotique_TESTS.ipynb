{
 "cells": [
  {
   "cell_type": "markdown",
   "metadata": {},
   "source": [
    "**Import dependicies**\n",
    "\n",
    "\n"
   ]
  },
  {
   "cell_type": "code",
   "execution_count": 1,
   "metadata": {
    "collapsed": true
   },
   "outputs": [],
   "source": [
    "%matplotlib nbagg\n",
    "\n",
    "import numpy as np\n",
    "import numpy.linalg as lin\n",
    "\n",
    "from IPython.display import display,HTML,clear_output\n",
    "import time\n",
    "\n",
    "import cv2\n",
    "\n",
    "import matplotlib as mpl\n",
    "import matplotlib.pyplot as plt\n",
    "\n",
    "import math\n",
    "from math import pi as PI\n",
    "\n",
    "mpl.use('nbagg')\n",
    "\n",
    "from matplotlib import animation\n",
    "mpl.rc('animation', html='html5') #display animated plots inline\n",
    "\n",
    "from robmob.robot import Robot\n",
    "from robmob.sensors import KinectRGBSensor\n",
    "from robmob.sensors import KinectDepthSensor\n",
    "from robmob.visualization import Visualizer\n"
   ]
  },
  {
   "cell_type": "markdown",
   "metadata": {},
   "source": [
    "**Connect to Robot**"
   ]
  },
  {
   "cell_type": "code",
   "execution_count": 2,
   "metadata": {
    "collapsed": true
   },
   "outputs": [],
   "source": [
    "ip_robot = '192.168.0.109'\n",
    "robot = Robot(ip_robot)\n",
    "robot.connect()"
   ]
  },
  {
   "cell_type": "code",
   "execution_count": 3,
   "metadata": {
    "collapsed": false
   },
   "outputs": [],
   "source": [
    "kinect = KinectRGBSensor()\n",
    "robot.add_sensor(kinect)\n",
    "depth_sensor = KinectDepthSensor()\n",
    "robot.add_sensor(depth_sensor)\n",
    "\n",
    "qrTag_1 = cv2.imread('qr2.png', 0)          # trainImage1\n",
    "qrTag_2 = cv2.imread('qr.jpg', 0)          # trainImage2\n",
    "sift = cv2.xfeatures2d.SIFT_create()\n",
    "\n",
    "# find the keypoints and descriptors with SIFT\n"
   ]
  },
  {
   "cell_type": "code",
   "execution_count": 4,
   "metadata": {
    "collapsed": true
   },
   "outputs": [],
   "source": [
    "# -------------------------------------------------\n",
    "# | input parameter  |-> trainImage\n",
    "#                    |-> queryImage\n",
    "# -------------------------------------------------\n",
    "# | output parameter |-> (numberOfDMatch, listOfDMatchPoints) \n",
    "# -------------------------------------------------\n",
    "def get_inlines(queryImg, tag):\n",
    "    queryImage = np.array(queryImg)\n",
    "    MIN_MATCH_COUNT = 1\n",
    "\n",
    "    kp1, des1 = sift.detectAndCompute(queryImage,None)    \n",
    "    kp2, des2 = sift.detectAndCompute(tag,None)     \n",
    "    \n",
    "    bf = cv2.BFMatcher()\n",
    "    matches = bf.knnMatch(des1, des2, k=2)\n",
    "\n",
    "    # store all the good matches as per Lowe's ratio test.\n",
    "    good = []\n",
    "    for m,n in matches:\n",
    "        if m.distance < 0.5*n.distance:\n",
    "            good.append(m)\n",
    "\n",
    "    if len(good) > MIN_MATCH_COUNT:\n",
    "        return len(good), good\n",
    "    else:\n",
    "        return 0, 0"
   ]
  },
  {
   "cell_type": "code",
   "execution_count": 5,
   "metadata": {
    "collapsed": true
   },
   "outputs": [],
   "source": [
    "# -------------------------------------------------\n",
    "# | input parameter  |-> tag\n",
    "#                    |-> angle\n",
    "#                    |-> speed\n",
    "# -------------------------------------------------\n",
    "# | output parameter |-> \"the orientation of the robot must be toward the tag\"\n",
    "# -------------------------------------------------\n",
    "def scan_for_max_inlines(tag, angle, speed):\n",
    "    max_inlines = False\n",
    "    inlines = 0\n",
    "    val=[]\n",
    "    while not max_inlines:\n",
    "        robot.angular_movement(angle, speed)\n",
    "        image = kinect.peek_data()\n",
    "        time.sleep(1)\n",
    "        new_inlines = get_inlines(image, tag)[0]\n",
    "#         print(\"new_inlines \" , new_inlines, \"inlines: \", inlines)\n",
    "        kinect.buffer.clear()\n",
    "        \n",
    "        if inlines <= new_inlines:\n",
    "            inlines = new_inlines\n",
    "#             print(\"not max_inlines\")\n",
    "        else:\n",
    "            max_inlines = False\n",
    "#             print(\"yes\")\n",
    "            return"
   ]
  },
  {
   "cell_type": "code",
   "execution_count": 6,
   "metadata": {
    "collapsed": true
   },
   "outputs": [],
   "source": [
    "# -------------------------------------------------\n",
    "# | input parameter  |-> list of DMatches (from SIFT algorithm)\n",
    "#                    |-> image where to find coords (queryImage)\n",
    "#                    |-> QR tag                     (trainImage)\n",
    "# -------------------------------------------------\n",
    "# | output parameter |-> list of coordonates\n",
    "# -------------------------------------------------\n",
    "def find_coords(dMatchList, queryImg, tag):\n",
    "    queryImage = np.array(queryImg)\n",
    "    \n",
    "    # Initiate SIFT detector\n",
    "    sift = cv2.xfeatures2d.SIFT_create()\n",
    "\n",
    "    # find the keypoints and descriptors with SIFT\n",
    "    kp1, des1 = sift.detectAndCompute(queryImage, None)\n",
    "    kp2, des2 = sift.detectAndCompute(tag, None)\n",
    "    \n",
    "    points = []\n",
    "    for dmatch in dMatchList:\n",
    "        coords = kp1[dmatch.queryIdx].pt\n",
    "        points.append(coords)\n",
    "    return points"
   ]
  },
  {
   "cell_type": "code",
   "execution_count": 7,
   "metadata": {
    "collapsed": true
   },
   "outputs": [],
   "source": [
    "# -------------------------------------------------\n",
    "# | input parameter  |-> Depth data\n",
    "#                    |-> list of points (coordinates)\n",
    "# -------------------------------------------------\n",
    "# | output parameter |-> distance (z) to tag\n",
    "# -------------------------------------------------\n",
    "def get_z_from_listOfPoints(depth_data, points):\n",
    "    zInEachPoint = []\n",
    "    for point in points:\n",
    "        z = depth_data[(point[0], point[1])]\n",
    "        if z > 0 and z < 3 :\n",
    "            zInEachPoint.append(z)\n",
    "     \n",
    "    print('zInEachPoint', zInEachPoint) \n",
    "    avg = sum(zInEachPoint)/len(zInEachPoint)\n",
    "    \n",
    "    zInEachPointWithoutAberrant = []\n",
    "    for z in zInEachPoint:\n",
    "        if ((avg*0.8) < z < (avg*1.2)):\n",
    "            zInEachPointWithoutAberrant.append(z)\n",
    "    \n",
    "    \n",
    "    print(zInEachPointWithoutAberrant)\n",
    "    return sum(zInEachPointWithoutAberrant)/len(zInEachPointWithoutAberrant)\n",
    "    "
   ]
  },
  {
   "cell_type": "code",
   "execution_count": null,
   "metadata": {
    "collapsed": false,
    "scrolled": true
   },
   "outputs": [],
   "source": [
    "# image = kinect.peek_data()\n",
    "# print(image)\n",
    "# dMatchList = get_inlines(image, qrTag_1)[1]\n",
    "# coordsList = find_coords(dMatchList, image, qrTag_1)\n",
    "# print(coordsList)"
   ]
  },
  {
   "cell_type": "code",
   "execution_count": null,
   "metadata": {
    "collapsed": false
   },
   "outputs": [],
   "source": [
    "# SHOW COORDS IN IMAGE\n",
    "image = kinect.peek_data()\n",
    "image2 = np.array(image)\n",
    "for p in points:\n",
    "    cv2.circle(image2,(int(p[0]), int(p[1])),5,(200,0,0),3)\n",
    "cv2.imshow(\"plank\", image2)\n",
    "cv2.waitKey()"
   ]
  },
  {
   "cell_type": "code",
   "execution_count": null,
   "metadata": {
    "collapsed": false
   },
   "outputs": [],
   "source": [
    "def show_kinect_data(depth_data, points, rgb_data=None ):\n",
    "    if rgb_data is not None:\n",
    "        for p in points:\n",
    "            cv2.circle(rgb_data,(int(p[0]), int(p[1])),5,(200,0,0),3)\n",
    "#             cv2.circle(depth_data,(int(p[0]), int(p[1])),5,(0,300,0),3)\n",
    "            \n",
    "\n",
    "        fig, (ax1, ax2) = plt.subplots(2, 1)\n",
    "        im1 = ax1.imshow(depth_data, aspect='equal')\n",
    "        im2 = ax2.imshow(rgb_data, aspect='equal')\n",
    "        \n",
    "        cbar_ax = fig.add_axes([0.85, 0.15, 0.05, 0.7])\n",
    "        fig.colorbar(im1, cax=cbar_ax)\n",
    "\n",
    "        plt.show()\n",
    "    else:\n",
    "        plt.imshow(depth_data, aspect='equal')\n",
    "        plt.colorbar()\n",
    "        plt.show()"
   ]
  },
  {
   "cell_type": "code",
   "execution_count": null,
   "metadata": {
    "collapsed": false
   },
   "outputs": [],
   "source": [
    "# image = kinect.peek_data()\n",
    "# image2 = np.array(image)\n",
    "# depth_data=depth_sensor.peek_data()\n",
    "show_kinect_data(depth_data, points, image2)\n",
    "# get_z_from_listOfPoints(depth_data, coordsList)"
   ]
  },
  {
   "cell_type": "code",
   "execution_count": null,
   "metadata": {
    "collapsed": false
   },
   "outputs": [],
   "source": [
    "queryImage = kinect.peek_data()"
   ]
  },
  {
   "cell_type": "code",
   "execution_count": 8,
   "metadata": {
    "collapsed": false
   },
   "outputs": [
    {
     "name": "stdout",
     "output_type": "stream",
     "text": [
      "Lets Do IT\n",
      "zInEachPoint [2.1940184, 2.2100666, 2.2275236, 2.2275236, 2.2275236, 2.8125448, 2.8399243, 2.2275236, 2.2275236, 2.8125448, 2.1940184, 2.2100666, 2.2275236, 2.2275236, 2.2275236, 2.2275236, 2.2452588, 2.2452588, 2.2452588, 2.2275236, 2.2452588, 2.2626731, 2.1770804, 2.160954, 2.8125448, 2.2275236, 2.8125448, 2.2100666, 2.2100666, 2.8125448, 2.2275236, 2.2100666, 2.2100666, 2.8399243, 2.8399243, 2.8399243, 2.2100666, 2.2100666, 2.8399243, 2.2100666, 2.2275236, 2.2275236, 2.8399243, 2.2100666, 2.2452588, 2.2275236]\n",
      "[2.1940184, 2.2100666, 2.2275236, 2.2275236, 2.2275236, 2.8125448, 2.2275236, 2.2275236, 2.8125448, 2.1940184, 2.2100666, 2.2275236, 2.2275236, 2.2275236, 2.2275236, 2.2452588, 2.2452588, 2.2452588, 2.2275236, 2.2452588, 2.2626731, 2.1770804, 2.160954, 2.8125448, 2.2275236, 2.8125448, 2.2100666, 2.2100666, 2.8125448, 2.2275236, 2.2100666, 2.2100666, 2.2100666, 2.2100666, 2.2100666, 2.2275236, 2.2275236, 2.2100666, 2.2452588, 2.2275236]\n",
      "Lets Do IT\n",
      "zInEachPoint [0.58422309, 0.5947789, 0.60343331, 0.61496943, 0.58037555, 0.57847077, 0.57847077, 0.57942158, 0.57942158, 0.58037555, 0.58037555, 0.57847077, 0.57942158, 0.57847077, 0.58037555, 0.57942158, 0.58325642, 0.58325642, 0.58229297, 0.58229297, 0.58325642, 0.58422309, 0.58515251, 0.58710164, 0.58996755, 0.58902282, 0.59381866, 0.59381866, 0.59763598, 0.59763598, 0.5967086, 0.60150266, 0.60533303, 0.60921258, 0.60921258, 0.61114895, 0.61305326, 0.57942158, 0.57942158, 0.57752305, 0.57752305, 0.5765391, 0.5765391, 0.58037555, 0.58037555, 0.57942158, 0.57942158, 0.57942158, 0.58037555, 0.58422309, 0.58515251, 0.58422309, 0.58422309, 0.58325642, 0.58325642, 0.58325642, 0.58422309, 0.58422309, 0.58422309, 0.58422309, 0.58804023, 0.58804023, 0.58515251, 0.58996755, 0.58996755, 0.58902282, 0.59286159, 0.59286159, 0.59286159, 0.59186614, 0.59186614, 0.5947789, 0.5947789, 0.59763598, 0.59860855, 0.59860855, 0.59860855, 0.59860855, 0.60150266, 0.60052061, 0.60052061, 0.60728842, 0.6168977, 0.6168977, 0.5765391, 0.5765391, 0.5765391, 0.5765391, 0.57752305, 0.57752305, 0.58422309, 0.58515251, 0.58515251, 0.58996755, 0.58996755, 0.59381866, 0.59763598, 0.59763598, 0.59763598, 0.59860855, 0.59763598, 0.59763598, 0.59763598, 0.59860855, 0.59860855, 0.59860855, 0.60343331, 0.57752305, 0.5765391, 0.57847077, 0.58037555, 0.58037555, 0.58037555, 0.58037555, 0.58037555, 0.58422309, 0.58515251, 0.58902282, 0.58710164, 0.58902282, 0.58996755, 0.58996755, 0.59381866, 0.60244495, 0.60728842, 0.61017919, 0.58996755, 0.59763598, 0.59763598, 0.5947789, 0.59860855, 0.60244495]\n",
      "[0.58422309, 0.5947789, 0.60343331, 0.61496943, 0.58037555, 0.57847077, 0.57847077, 0.57942158, 0.57942158, 0.58037555, 0.58037555, 0.57847077, 0.57942158, 0.57847077, 0.58037555, 0.57942158, 0.58325642, 0.58325642, 0.58229297, 0.58229297, 0.58325642, 0.58422309, 0.58515251, 0.58710164, 0.58996755, 0.58902282, 0.59381866, 0.59381866, 0.59763598, 0.59763598, 0.5967086, 0.60150266, 0.60533303, 0.60921258, 0.60921258, 0.61114895, 0.61305326, 0.57942158, 0.57942158, 0.57752305, 0.57752305, 0.5765391, 0.5765391, 0.58037555, 0.58037555, 0.57942158, 0.57942158, 0.57942158, 0.58037555, 0.58422309, 0.58515251, 0.58422309, 0.58422309, 0.58325642, 0.58325642, 0.58325642, 0.58422309, 0.58422309, 0.58422309, 0.58422309, 0.58804023, 0.58804023, 0.58515251, 0.58996755, 0.58996755, 0.58902282, 0.59286159, 0.59286159, 0.59286159, 0.59186614, 0.59186614, 0.5947789, 0.5947789, 0.59763598, 0.59860855, 0.59860855, 0.59860855, 0.59860855, 0.60150266, 0.60052061, 0.60052061, 0.60728842, 0.6168977, 0.6168977, 0.5765391, 0.5765391, 0.5765391, 0.5765391, 0.57752305, 0.57752305, 0.58422309, 0.58515251, 0.58515251, 0.58996755, 0.58996755, 0.59381866, 0.59763598, 0.59763598, 0.59763598, 0.59860855, 0.59763598, 0.59763598, 0.59763598, 0.59860855, 0.59860855, 0.59860855, 0.60343331, 0.57752305, 0.5765391, 0.57847077, 0.58037555, 0.58037555, 0.58037555, 0.58037555, 0.58037555, 0.58422309, 0.58515251, 0.58902282, 0.58710164, 0.58902282, 0.58996755, 0.58996755, 0.59381866, 0.60244495, 0.60728842, 0.61017919, 0.58996755, 0.59763598, 0.59763598, 0.5947789, 0.59860855, 0.60244495]\n"
     ]
    },
    {
     "name": "stderr",
     "output_type": "stream",
     "text": [
      "/home/marcus/opt/anaconda3/lib/python3.5/site-packages/ipykernel/__main__.py:10: DeprecationWarning: using a non-integer number instead of an integer will result in an error in the future\n"
     ]
    }
   ],
   "source": [
    "# ***  MAIN  ***\n",
    "\n",
    "for tag in [qrTag_2, qrTag_2]:\n",
    "    time.sleep(1)\n",
    "    print('Let''s Do IT')\n",
    "    time.sleep(1)\n",
    "    scan_for_max_inlines(tag, PI/8,1)\n",
    "    scan_for_max_inlines(tag, -PI/16,0.5)\n",
    "    time.sleep(1)\n",
    "    queryImage = kinect.peek_data()\n",
    "    time.sleep(1)\n",
    "    dMatchList = get_inlines(queryImage, tag)[1]\n",
    "    points = find_coords(dMatchList, queryImage, tag)\n",
    "    time.sleep(1)\n",
    "    depth_data = depth_sensor.peek_data()\n",
    "    d = get_z_from_listOfPoints(depth_data, points)\n",
    "    time.sleep(1)\n",
    "    robot.linear_movement_precise(d*0.8, 0.1)\n"
   ]
  },
  {
   "cell_type": "code",
   "execution_count": null,
   "metadata": {
    "collapsed": false
   },
   "outputs": [],
   "source": [
    "# print(points)\n",
    "# depth_data = depth_sensor.peek_data()\n",
    "# print(get_z_from_listOfPoints(depth_data, points))"
   ]
  }
 ],
 "metadata": {
  "kernelspec": {
   "display_name": "Python 3",
   "language": "python",
   "name": "python3"
  },
  "language_info": {
   "codemirror_mode": {
    "name": "ipython",
    "version": 3
   },
   "file_extension": ".py",
   "mimetype": "text/x-python",
   "name": "python",
   "nbconvert_exporter": "python",
   "pygments_lexer": "ipython3",
   "version": "3.5.2"
  }
 },
 "nbformat": 4,
 "nbformat_minor": 0
}
